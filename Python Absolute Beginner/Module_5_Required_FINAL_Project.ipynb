{
 "cells": [
  {
   "cell_type": "markdown",
   "metadata": {
    "collapsed": true
   },
   "source": [
    "#  Final Project Required Coding Activity  \n",
    "Python Absolute Beginner \n",
    "\n",
    "Complete all tutorials, practices and required code in the course prior to attempting this activity.\n",
    "\n",
    "| Some Assignment Requirements |\n",
    "|:-------------------------------|\n",
    "|This program requires the use of<ul><li>**`while`** loop</li><li>**`if, elif, else`**</li><li>**`if,else`** (nested)</li><li>**casting** of type,  between strings and numbers</li></ul><br/>The program should **only** use code syntax covered in modules 1 - 4.<br/><br/>The program must result in print output using the numeric input, similar to that shown in the samples displaying \"Items\" and \"Total\".  |\n",
    "\n",
    "\n",
    "## Program: `adding_report()` function  \n",
    "This program calls the adding_report() function which repeatedly takes positive integer input until the user quits and then sums the integers and prints a \"report\".    \n",
    "The **adding_report()** function has 1 string parameter which indicates the type of report:  \n",
    "- \"A\" used as the argument to adding_report() results in printing of all of the input integers and the total  \n",
    "- \"T\" used as the argument results in printing only the total   \n",
    "\n",
    "#### Sample input and output:  \n",
    "call adding_report() with \"A\" as argument (print all the integers entered and the total)  \n",
    "```\n",
    "Input an integer to add to the total or \"Q\" to quit\n",
    "Enter an integer or \"Q\"): 3\n",
    "Enter an integer or \"Q\"): 6\n",
    "Enter an integer or \"Q\"): 24\n",
    "Enter an integer or \"Q\"): 17\n",
    "Enter an integer or \"Q\"): 61\n",
    "Enter an integer or \"Q\"): nine\n",
    "nine is invalid input\n",
    "Enter an integer or \"Q\"): q\n",
    "\n",
    "Items\n",
    "3\n",
    "6\n",
    "24\n",
    "17\n",
    "61\n",
    "\n",
    "Total\n",
    " 111\n",
    "```  \n",
    "\n",
    "call with \"T\"(print only the total)  \n",
    "```\n",
    "Input an integer to add to the total or \"Q\" to quit\n",
    "Enter an integer or \"Q\": 5\n",
    "Enter an integer or \"Q\": 7\n",
    "Enter an integer or \"Q\": Quit\n",
    "\n",
    "Total\n",
    " 12\n",
    "```  \n",
    "\n",
    "\n",
    "### Additional Details\n",
    "  \n",
    "- initialize `total` variable which will sum integer values entered  \n",
    "- initialize `items` variable which will build a string of the integer inputs separated with a *new line character*  \n",
    "- define the `adding_report` function with one parameter `report` that will be a string with default of \"T\"  \n",
    "- inside the function build a forever loop (infinite while loop) and inside the loop complete the following  \n",
    "  - use a variable to gather input (integer or \"Q\")  \n",
    "  - check if the input string is a digit (integer) and if it is...  \n",
    "    - add input iteger to total  \n",
    "    - if report type is \"A\" add the numeric character(s) to the item string seperated by a new line  \n",
    "  - if not a digit, check if the input string is \"Q\" or starts with a \"Q\", **if \"Q\"** then...  \n",
    "    - if the report type is \"A\" print out all the integer items entered and the sum total  \n",
    "    - if report type is \"T\" then print out the sum total only  \n",
    "    - `break` out of while loop to end the function after printing the report (\"A\" or \"T\") \n",
    "  - if not a digit and if not a \"Q\" then print a message that the \"input is invalid\"  \n",
    "\n",
    "- Call the `adding_report` function with \"A\" and then with \"T\" report parameters  \n",
    "- Run and test your code before submitting"
   ]
  },
  {
   "cell_type": "code",
   "execution_count": 4,
   "metadata": {
    "collapsed": true
   },
   "outputs": [
    {
     "name": "stdout",
     "output_type": "stream",
     "text": [
      "input is invalid\n",
      "input is invalid\n",
      "input is invalid\n"
     ]
    }
   ],
   "source": [
    "def adding_report(report = \"T\"):\n",
    "    total = 0\n",
    "    items = \"\"\n",
    "    while True: \n",
    "        integer = input(\"Enter an integer, or 'Q' to quit: \")\n",
    "        if integer.isdigit():\n",
    "            total += int(integer) + total\n",
    "            if report.startswith(\"A\"):\n",
    "                items += integer + \"\\n\" \n",
    "        elif integer.startswith(\"Q\"):\n",
    "            if report.startswith(\"A\"):\n",
    "                print(items + \"\\nTotal\\n\" + str(total))\n",
    "            else:\n",
    "                print(\"\\nTotal\\n\" + str(total)) \n",
    "            break    \n",
    "        if report.startswith(\"T\"):  \n",
    "            print(\"\\nTotal\\n\" + str(total))\n",
    "        else:\n",
    "            print(\"input is invalid\")\n",
    "            break\n",
    "        break    \n",
    "    adding_report(integer)\n",
    "    print()\n",
    "\n",
    "adding_report(\"A\")\n"
   ]
  },
  {
   "cell_type": "code",
   "execution_count": 14,
   "metadata": {},
   "outputs": [
    {
     "name": "stdout",
     "output_type": "stream",
     "text": [
      "  is not a valid input.\n"
     ]
    }
   ],
   "source": [
    "def adding_report(report = \"T\"):\n",
    "    total = 0\n",
    "    items = \"\"\n",
    "    while True: \n",
    "        integer = input(\"Enter an integer, or 'Q' to quit: \")\n",
    "        if integer.isdigit():\n",
    "            items += integer + \"\\n\"\n",
    "            total = int(integer) + total \n",
    "        elif integer == \"Q\":\n",
    "            if report == \"A\":\n",
    "                print(\"items: \" + \"\\n\" + items)\n",
    "                print(\"Total: \" + \"\\n\")\n",
    "                print(total)\n",
    "            elif report == \"T\":  \n",
    "                total = int(integer) + total\n",
    "                print(\"items: \" + \"\\n\" + items)\n",
    "                print(\"Total: \" + \"\\n\")\n",
    "                print(total)\n",
    "                break       \n",
    "        else:\n",
    "            print(integer, \" is not a valid input.\")\n",
    "            break\n",
    "\n",
    "adding_report(\"A\")"
   ]
  },
  {
   "cell_type": "markdown",
   "metadata": {},
   "source": [
    "Submit this by creating a python file (.py) and submitting it in D2L. Be sure to test that it works."
   ]
  }
 ],
 "metadata": {
  "kernelspec": {
   "display_name": "Python 3.10.6 64-bit",
   "language": "python",
   "name": "python3"
  },
  "language_info": {
   "codemirror_mode": {
    "name": "ipython",
    "version": 3
   },
   "file_extension": ".py",
   "mimetype": "text/x-python",
   "name": "python",
   "nbconvert_exporter": "python",
   "pygments_lexer": "ipython3",
   "version": "3.10.6"
  },
  "vscode": {
   "interpreter": {
    "hash": "215770cb51d250d45b51098c31b643fe015e8873cd529a92f0a276ac79e03ded"
   }
  }
 },
 "nbformat": 4,
 "nbformat_minor": 1
}

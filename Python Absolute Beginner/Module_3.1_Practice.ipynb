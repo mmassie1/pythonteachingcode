{
 "cells": [
  {
   "cell_type": "markdown",
   "metadata": {},
   "source": [
    "# Module 3 Practice 1\n",
    "## Conditionals \n",
    "<font size=\"5\" color=\"#00A0B2\"  face=\"verdana\"> <B>Student will be able to</B></font>  \n",
    "- **control code flow with `if`... `else` conditional logic**  \n",
    "  - using Boolean string methods (`.isupper(), .isalpha(), .startswith()...`)  \n",
    "  - using comparision (`>, <, >=, <=, ==, !=`)  \n",
    "  - using Strings in comparisons  \n",
    "\n",
    "## `if else`\n"
   ]
  },
  {
   "cell_type": "code",
   "execution_count": 3,
   "metadata": {},
   "outputs": [
    {
     "name": "stdout",
     "output_type": "stream",
     "text": [
      "You will be 32 in a decade\n"
     ]
    }
   ],
   "source": [
    "# [ ] input a variable: age as digit and cast to int\n",
    "# if age greater than or equal to 12 then print message on age in 10 years \n",
    "# or else print message \"It is good to be\" age\n",
    "age = input(\"How old are you?\")\n",
    "age = int(age)\n",
    "\n",
    "if age >= 12:\n",
    "    print(\"You will be\" , age + 10 , \"in a decade\")\n",
    "else:\n",
    "    print(\"It is good to be\" , age)\n",
    "\n"
   ]
  },
  {
   "cell_type": "code",
   "execution_count": 7,
   "metadata": {
    "collapsed": true
   },
   "outputs": [
    {
     "name": "stdout",
     "output_type": "stream",
     "text": [
      "12 is less than 100, therefore, FALSE.\n"
     ]
    }
   ],
   "source": [
    "# [ ] input a number \n",
    "# if number IS a digit string then cast to int\n",
    "# print number \"greater than 100 is\" True/False\n",
    "# if number is NOT a digit string then message the user that \"only int is accepted\"\n",
    "\n",
    "num = input(\"Enter a number: \")\n",
    "\n",
    "if num.isdigit():\n",
    "    num = int(num)\n",
    "else:\n",
    "    print(\"Only integers are accepted!\")\n",
    "\n",
    "if num > 100:\n",
    "    print(num , \"is greater than 100, therefore, TRUE.\")\n",
    "else:\n",
    "    print(num , \"is less than 100, therefore, FALSE.\")\n",
    "\n"
   ]
  },
  {
   "cell_type": "markdown",
   "metadata": {},
   "source": [
    "### Guessing a letter A-Z  \n",
    "**check_guess()** takes 2 string arguments: **letter and guess** (both expect single alphabetical character)   \n",
    "    - if guess is not an alpha character print invalid and return False\n",
    "    - test and print if guess is \"high\" or \"low\" and return False\n",
    "    - test and print if guess is \"correct\" and return True"
   ]
  },
  {
   "cell_type": "code",
   "execution_count": 9,
   "metadata": {
    "collapsed": true
   },
   "outputs": [],
   "source": [
    "# [ ] create check_guess()\n",
    "# call with test\n",
    "def check_guess(letter , user_guess):\n",
    "    if user_guess.isalpha():\n",
    "        if user_guess == letter:\n",
    "            print(user_guess , \"is correct!\")\n",
    "            return(True)\n",
    "        elif user_guess > letter:\n",
    "            print(user_guess , \"is too high\")\n",
    "            return(False)\n",
    "        elif user_guess < letter:\n",
    "            print((user_guess) , \"is too low\")\n",
    "            return(False)\n",
    "    else:\n",
    "        print(\"INVALID\")\n",
    "        return(False)\n"
   ]
  },
  {
   "cell_type": "code",
   "execution_count": 11,
   "metadata": {
    "collapsed": true
   },
   "outputs": [
    {
     "name": "stdout",
     "output_type": "stream",
     "text": [
      "P is too high\n"
     ]
    },
    {
     "data": {
      "text/plain": [
       "False"
      ]
     },
     "execution_count": 11,
     "metadata": {},
     "output_type": "execute_result"
    }
   ],
   "source": [
    "# [ ] call check_guess with user input\n",
    "\n",
    "letter = input(\"Enter a letter to guess:\")\n",
    "letter = letter.capitalize()\n",
    "user_guess = input(\"Enter a guess:\")\n",
    "user_guess = user_guess.capitalize()\n",
    "\n",
    "check_guess(letter, user_guess)\n"
   ]
  },
  {
   "cell_type": "markdown",
   "metadata": {},
   "source": [
    "### Letter Guess\n",
    "**create letter_guess() function that gives user 3 guesses**\n",
    "- takes a letter character argument for the answer letter\n",
    "- gets user input for letter guess  \n",
    "- calls check_guess() with answer and guess\n",
    "- End letter_guess if \n",
    "    - check_guess() equals True, return True  \n",
    "    - or after 3 failed attempts, return False"
   ]
  },
  {
   "cell_type": "code",
   "execution_count": 12,
   "metadata": {
    "collapsed": true
   },
   "outputs": [
    {
     "name": "stdout",
     "output_type": "stream",
     "text": [
      "G is too low\n",
      "next guess\n",
      "R is too low\n",
      "next guess\n",
      "H is too low\n",
      "User could not guess letter in 3 tries :(\n"
     ]
    }
   ],
   "source": [
    "# [ ] create letter_guess() function, call the function to test\n",
    "\n",
    "def check_guess(letter , guess):\n",
    "    if guess.isalpha():\n",
    "        if guess == letter:\n",
    "            print(guess , \"is correct!\")\n",
    "            return(True)\n",
    "        elif guess > letter:\n",
    "            print(guess , \"is too high\")\n",
    "            return(False)\n",
    "        elif guess < letter:\n",
    "            print(guess , \"is too low\")\n",
    "            return(False)\n",
    "    else:\n",
    "        print(\"INVALID\")\n",
    "        return(False)\n",
    "\n",
    "\n",
    "def letter_guess(letter_answer , count):\n",
    "    if letter_answer.isalpha():\n",
    "        letter_answer = letter_answer.capitalize()\n",
    "        guess = input(\"Enter a guess:\")\n",
    "        guess = guess.capitalize()\n",
    "        didIguessit = check_guess(letter_answer , guess)\n",
    "\n",
    "        if didIguessit == True:\n",
    "            return(True)\n",
    "        else:\n",
    "            count = count + 1\n",
    "            if count < 3:\n",
    "                print (\"next guess\")\n",
    "                letter_guess(letter_answer , count)\n",
    "            else:\n",
    "                print(\"User could not guess letter in 3 tries :(\")\n",
    "                return(False)\n",
    "    else:\n",
    "        print(\"INVALID\") \n",
    "\n",
    "\n",
    "letter_answer = input(\"Enter a letter to guess:\")\n",
    "letter_guess(letter_answer, 0)\n"
   ]
  },
  {
   "cell_type": "markdown",
   "metadata": {},
   "source": [
    "### Pet Conversation\n",
    "**ask the user for a sentence about a pet and then reply**  \n",
    "- get user input in variable: about_pet\n",
    "- using a series of **if** statements respond with appropriate conversation\n",
    "  - check if \"dog\" is in the string about_pet (sample reply \"Ah, a dog\")\n",
    "  - check if \"cat\" is in the string about_pet\n",
    "  - check if 1 or more animal is in string about_pet\n",
    "- no need for **else**'s\n",
    "- finish with thanking for the story"
   ]
  },
  {
   "cell_type": "code",
   "execution_count": 14,
   "metadata": {
    "collapsed": true
   },
   "outputs": [
    {
     "name": "stdout",
     "output_type": "stream",
     "text": [
      "I have a tortoise and he will most likely outlive me!\n",
      "That is a cool fact about your tortoise!\n"
     ]
    }
   ],
   "source": [
    "# [ ] complete pet conversation\n",
    "about_pet = input(\"Tell me something about your pet:\")\n",
    "about_pet = about_pet.lower()\n",
    "\n",
    "if \"dog\" in about_pet:\n",
    "    print(\"My dog loves to chase her tail.\")\n",
    "    print(\"That is so silly!\")\n",
    "\n",
    "if \"cat\" in about_pet:\n",
    "    print(\"My cat is terrified of her shadow and reflection.\")\n",
    "    print(\"That is so funny!\")\n",
    "\n",
    "if \"tortoise\" in about_pet:\n",
    "    print(\"I have a tortoise and he will most likely outlive me!\")\n",
    "    print(\"That is a cool fact about your tortoise!\")\n",
    "\n"
   ]
  },
  {
   "cell_type": "markdown",
   "metadata": {},
   "source": [
    "# Module 3 Practice 2\n",
    "## conditionals, type, and mathematics extended   \n",
    "&nbsp;\n",
    "<font size=\"5\" color=\"#00A0B2\"  face=\"verdana\"> <B>Student will be able to</B></font>  \n",
    "- code more than two choices using **`elif`** \n",
    "- gather numeric input using type casting  \n",
    "- perform subtraction, multiplication and division operations in code  &nbsp;  \n"
   ]
  },
  {
   "cell_type": "markdown",
   "metadata": {},
   "source": [
    "# &nbsp;  \n",
    "<font size=\"6\" color=\"#B24C00\"  face=\"verdana\"> <B>Tasks</B></font>"
   ]
  },
  {
   "cell_type": "markdown",
   "metadata": {},
   "source": [
    "### Rainbow colors\n",
    "ask for input of a favorite rainbow color first letter: ROYGBIV  \n",
    "\n",
    "Using `if`, `elif`, and `else`:  \n",
    "- print the color matching the letter  \n",
    "    - R = Red  \n",
    "    - O = Orange  \n",
    "    - Y = Yellow  \n",
    "    - G = Green\n",
    "    - B = Blue\n",
    "    - I = Indigo\n",
    "    - V = Violet\n",
    "    - else print \"no match\"\n"
   ]
  },
  {
   "cell_type": "code",
   "execution_count": 16,
   "metadata": {},
   "outputs": [
    {
     "name": "stdout",
     "output_type": "stream",
     "text": [
      "Violet\n"
     ]
    }
   ],
   "source": [
    "# [ ] complete rainbow colors\n",
    "\n",
    "favorite_rainbow_color = input(\"Enter the capitalized letter of your favorite rainbow color, using the given letters: R for red, O for orange, Y for yellow, G for green, B for blue, I for indigo, and V for violet\")\n",
    "if favorite_rainbow_color == \"R\":\n",
    "    print(\"Red\")\n",
    "elif favorite_rainbow_color == \"O\":\n",
    "    print(\"Orange\")\n",
    "elif favorite_rainbow_color == \"Y\":\n",
    "    print(\"Yellow\")\n",
    "elif favorite_rainbow_color == \"G\":\n",
    "    print(\"Green\")\n",
    "elif favorite_rainbow_color == \"B\":\n",
    "    print(\"Blue\")\n",
    "elif favorite_rainbow_color == \"I\":\n",
    "    print(\"Indigo\")\n",
    "elif favorite_rainbow_color == \"V\":\n",
    "    print(\"Violet\")\n",
    "else:\n",
    "    print(\"no match\")\n",
    "\n"
   ]
  },
  {
   "cell_type": "code",
   "execution_count": 19,
   "metadata": {},
   "outputs": [
    {
     "name": "stdout",
     "output_type": "stream",
     "text": [
      "Violet\n"
     ]
    }
   ],
   "source": [
    "# [ ] make the code above into a function rainbow_color() that has a string parameter, \n",
    "# get input and call the function and return the matching color as a string or \"no match\" message.\n",
    "# Call the function and print the return string.\n",
    "\n",
    "def rainbow_color():\n",
    "    favorite_rainbow_color = input(\"What is your favorite rainbow color?\")\n",
    "    if favorite_rainbow_color == \"R\":\n",
    "        print(\"Red\")\n",
    "    elif favorite_rainbow_color == \"O\":\n",
    "        print(\"Orange\")\n",
    "    elif favorite_rainbow_color == \"Y\":\n",
    "        print(\"Yellow\")\n",
    "    elif favorite_rainbow_color == \"G\":\n",
    "        print(\"Green\")\n",
    "    elif favorite_rainbow_color == \"B\":\n",
    "        print(\"Blue\")\n",
    "    elif favorite_rainbow_color == \"I\":\n",
    "        print(\"Indigo\")\n",
    "    elif favorite_rainbow_color == \"V\":\n",
    "        print(\"Violet\")\n",
    "    else:\n",
    "        print(\"no match\")\n",
    "rainbow_color()\n"
   ]
  },
  {
   "cell_type": "markdown",
   "metadata": {},
   "source": [
    "# &nbsp;  \n",
    "**Create function age_20() that adds or subtracts 20 from your age for a return value based on current age** (use `if`) \n",
    "- call the funtion with user input and then use the return value in a sentence  \n",
    "example `age_20(25)` returns **5**: \n",
    "> \"5 years old, 20 years difference from now\""
   ]
  },
  {
   "cell_type": "code",
   "execution_count": 21,
   "metadata": {},
   "outputs": [
    {
     "name": "stdout",
     "output_type": "stream",
     "text": [
      "40 years old, 20 years difference from now.\n"
     ]
    }
   ],
   "source": [
    "# [ ] complete age_20()\n",
    "\n",
    "def age_20(age):\n",
    "    add_age = age + 20\n",
    "    subtract_age = age - 20\n",
    "    if subtract_age > 0:\n",
    "        return subtract_age\n",
    "    elif add_age > 0: \n",
    "        return add_age\n",
    "    else:\n",
    "        return \"invalid age\"\n",
    "\n",
    "print(age_20(20), \"years old, 20 years difference from now.\")"
   ]
  },
  {
   "cell_type": "markdown",
   "metadata": {},
   "source": [
    "**create a function rainbow_or_age that takes a string argument**\n",
    "- if argument is a digit return the value of calling age_20() with the str value cast as **`int`** \n",
    "- if argument is an alphabetical character return the value of calling rainbow_color() with the str\n",
    "- if neither return FALSE"
   ]
  },
  {
   "cell_type": "code",
   "execution_count": 23,
   "metadata": {},
   "outputs": [
    {
     "data": {
      "text/plain": [
       "30"
      ]
     },
     "execution_count": 23,
     "metadata": {},
     "output_type": "execute_result"
    }
   ],
   "source": [
    "# [ ]  create rainbow_or_age()\n",
    "\n",
    "def age_15(age):\n",
    "    add_age = age + 15\n",
    "    subtract_age = age - 15\n",
    "    if subtract_age>0:\n",
    "       return subtract_age\n",
    "    elif add_age>0:\n",
    "        return add_age\n",
    "    else:\n",
    "        return \"invalid age\"\n",
    "def rainbow_color(favorite_rainbow_color):\n",
    "    if favorite_rainbow_color == \"R\":\n",
    "        print(\"Red\")\n",
    "    elif favorite_rainbow_color == \"O\":\n",
    "        print(\"Orange\")\n",
    "    elif favorite_rainbow_color == \"Y\":\n",
    "        print(\"Yellow\")\n",
    "    elif favorite_rainbow_color == \"G\":\n",
    "        print(\"Green\")\n",
    "    elif favorite_rainbow_color == \"B\":\n",
    "        print(\"Blue\")\n",
    "    elif favorite_rainbow_color == \"I\":\n",
    "        print(\"Indigo\")\n",
    "    elif favorite_rainbow_color == \"V\":\n",
    "        print(\"Violet\")\n",
    "    else:\n",
    "        print(\"no match\")\n",
    "\n",
    "\n",
    "def rainbow_or_age(per):\n",
    "  if per.isdigit():\n",
    "    return age_15(int(per))\n",
    "  elif per.isalpha():\n",
    "    return rainbow_color(per)\n",
    "  else:\n",
    "    return False\n",
    "rainbow_or_age(\"15\")\n"
   ]
  },
  {
   "cell_type": "code",
   "execution_count": 24,
   "metadata": {},
   "outputs": [
    {
     "name": "stdout",
     "output_type": "stream",
     "text": [
      "5\n"
     ]
    }
   ],
   "source": [
    "# [ ]  add 2 numbers from input using a cast to integer and display the answer \n",
    "\n",
    "num_1 = input(\"enter a number\")\n",
    "num_2 = input(\"enter a second number\")\n",
    "sum = int(num_1) + int(num_2)\n",
    "print(sum)"
   ]
  },
  {
   "cell_type": "code",
   "execution_count": 32,
   "metadata": {},
   "outputs": [
    {
     "name": "stdout",
     "output_type": "stream",
     "text": [
      "15 * 2 = 30\n"
     ]
    }
   ],
   "source": [
    "# [ ] Multiply 2 numbers from input using cast and save the answer as part of a string \"the answer is...\"\n",
    "# display the string using print\n",
    "\n",
    "def multiply():\n",
    "    one_num = int(input(\"enter 1 whole number: \"))\n",
    "    two_num = int(input(\"enter another whole number you want to multiply by the previous one: \"))\n",
    "    calc = one_num * two_num\n",
    "    display = print(one_num,\"*\",two_num,\"=\",str(calc))\n",
    "    return display\n",
    "\n",
    "multiply()\n",
    "\n"
   ]
  },
  {
   "cell_type": "code",
   "execution_count": 35,
   "metadata": {},
   "outputs": [
    {
     "name": "stdout",
     "output_type": "stream",
     "text": [
      "The average of  10  and  20  is:  15.0\n"
     ]
    }
   ],
   "source": [
    "# [ ] get input of 2 numbers and display the average: (num1 + num2) divided by 2\n",
    "\n",
    "def average():\n",
    "    one_num = int(input(\"enter one whole number: \"))\n",
    "    two_num = int(input(\"enter another whole number you want to find the average of with the first number: \"))\n",
    "    calc = (one_num + two_num) / 2\n",
    "    display = print(\"The average of \", one_num, \" and \", two_num, \" is: \", str(calc))\n",
    "    return display\n",
    "average()"
   ]
  },
  {
   "cell_type": "code",
   "execution_count": 36,
   "metadata": {},
   "outputs": [
    {
     "name": "stdout",
     "output_type": "stream",
     "text": [
      "-3\n"
     ]
    }
   ],
   "source": [
    "# [ ] get input of 2 numbers and subtract the largest from the smallest (use an if statement to see which is larger)\n",
    "# show the answer\n",
    "num_1 = input(\"enter a number\")\n",
    "num_2 = input(\"enter a second number\")\n",
    "if num_1<num_2:\n",
    "    print(int(num_1) - int(num_2))\n",
    "else:\n",
    "    print(int(num_2) - int(num_1))"
   ]
  },
  {
   "cell_type": "code",
   "execution_count": 46,
   "metadata": {},
   "outputs": [
    {
     "name": "stdout",
     "output_type": "stream",
     "text": [
      "4\n"
     ]
    }
   ],
   "source": [
    "# [ ] Divide a larger number by a smaller number and print the integer part of the result\n",
    "# don't divide by zero! if a zero is input make the result zero\n",
    "# [ ] cast the answer to an integer to cut off the decimals and print the result\n",
    "large_num = 100\n",
    "small_num = 25\n",
    "if small_num == 0:\n",
    "    print(0)\n",
    "else:\n",
    "    solution = large_num / small_num\n",
    "print(int(solution))"
   ]
  },
  {
   "cell_type": "markdown",
   "metadata": {
    "collapsed": true
   },
   "source": [
    "[Terms of use](http://go.microsoft.com/fwlink/?LinkID=206977) &nbsp; [Privacy & cookies](https://go.microsoft.com/fwlink/?LinkId=521839) &nbsp; © 2017 Microsoft"
   ]
  }
 ],
 "metadata": {
  "anaconda-cloud": {},
  "kernelspec": {
   "display_name": "Python 3.10.6 64-bit",
   "language": "python",
   "name": "python3"
  },
  "language_info": {
   "codemirror_mode": {
    "name": "ipython",
    "version": 3
   },
   "file_extension": ".py",
   "mimetype": "text/x-python",
   "name": "python",
   "nbconvert_exporter": "python",
   "pygments_lexer": "ipython3",
   "version": "3.10.6"
  },
  "vscode": {
   "interpreter": {
    "hash": "215770cb51d250d45b51098c31b643fe015e8873cd529a92f0a276ac79e03ded"
   }
  }
 },
 "nbformat": 4,
 "nbformat_minor": 1
}

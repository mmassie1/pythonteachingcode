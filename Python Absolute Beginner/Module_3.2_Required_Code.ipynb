{
  "cells": [
    {
      "cell_type": "markdown",
      "metadata": {
        "collapsed": true
      },
      "source": [
        "#  Module 3 Required Coding Activity  \n",
        "Introduction to Python Unit 1 \n",
        "\n",
        "This is an activity based on code similar to the Jupyter Notebook **`Practice_MOD03_1-4_IntroPy.ipynb`** and **`Practice_MOD03_1-5_IntroPy.ipynb`** which you may have completed as practice.\n",
        "\n",
        "> **NOTE:** This program requires the use of **`if, elif, else`**, and casting between strings and numbers. The program should use the various code syntax covered in module 3.  \n",
        ">  \n",
        ">The program must result in print output using numeric input similar to that shown in the sample below.\n",
        "\n",
        "## Program: Cheese Order Function   \n",
        "- define function with max, min, price, and order_amount parameters\n",
        "- set default values for maximum and minimum order parameters  \n",
        "- set default value for price parameter\n",
        "- cast order_amount and other arguments to numbers  \n",
        "- check order_amount and give message checking against  \n",
        "  - over maximum\n",
        "  - under minimum\n",
        "- else within maximum and minimum give message with calculated price \n",
        "- call your function using order weight input from user\n",
        "\n",
        "\n",
        "Sample input and output:\n",
        "```\n",
        "Enter cheese order weight (numeric value): 113\n",
        "113.0 is more than currently available stock\n",
        "```\n",
        "\n",
        "```\n",
        "Enter cheese order weight (numeric value): .15\n",
        "0.15 is below minimum order amount\n",
        "```  \n",
        "\n",
        "```\n",
        "Enter cheese order weight (numeric value): 2\n",
        "2.0 costs $15.98\n",
        "```  "
      ]
    },
    {
      "cell_type": "code",
      "execution_count": 9,
      "metadata": {
        "trusted": false
      },
      "outputs": [
        {
          "name": "stdout",
          "output_type": "stream",
          "text": [
            "Cost of Purchase:\n",
            "1.9 pounds costs $4.75\n"
          ]
        }
      ],
      "source": [
        "# [ ] create, call and test \n",
        "\n",
        "print(\"Cost of Purchase:\")\n",
        "\n",
        "min_weight = 0\n",
        "max_weight = 15\n",
        "price = 2.5\n",
        "\n",
        "\n",
        "def cheese_order(): \n",
        "    amount = float(input(\"How many pounds of cheese would you like to order?\"))\n",
        "\n",
        "    if amount < min_weight:\n",
        "        return(amount, \"is below the minimum order amount.\")\n",
        "    elif amount > max_weight:\n",
        "        return(amount, \"is more than the amount we have in stock.\")\n",
        "    else:\n",
        "        calc = amount * price\n",
        "        cost = str(amount) + \" pounds costs $\" + str(calc)\n",
        "        return cost\n",
        "    \n",
        "print(cheese_order())\n",
        "\n"
      ]
    },
    {
      "cell_type": "markdown",
      "metadata": {},
      "source": [
        "Submit this by creating a python file (.py) and submitting it in D2L. Be sure to test that it works."
      ]
    }
  ],
  "metadata": {
    "kernelspec": {
      "display_name": "Python 3.10.6 64-bit",
      "language": "python",
      "name": "python3"
    },
    "language_info": {
      "codemirror_mode": {
        "name": "ipython",
        "version": 3
      },
      "file_extension": ".py",
      "mimetype": "text/x-python",
      "name": "python",
      "nbconvert_exporter": "python",
      "pygments_lexer": "ipython3",
      "version": "3.10.6"
    },
    "vscode": {
      "interpreter": {
        "hash": "215770cb51d250d45b51098c31b643fe015e8873cd529a92f0a276ac79e03ded"
      }
    }
  },
  "nbformat": 4,
  "nbformat_minor": 1
}

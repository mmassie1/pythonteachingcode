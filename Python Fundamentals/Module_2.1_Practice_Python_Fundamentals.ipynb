{
 "cells": [
  {
   "cell_type": "markdown",
   "metadata": {},
   "source": [
    "# Module 2 Practice - Python Fundamentals\n",
    "## Lists\n",
    "<font size=\"5\" color=\"#00A0B2\"  face=\"verdana\"> <B>Student will be able to</B></font>  \n",
    "- Create Lists\n",
    "- Access items in a list\n",
    "- Add Items to the end of a list\n",
    "- Insert items into a list\n",
    "- Delete items from a list"
   ]
  },
  {
   "cell_type": "markdown",
   "metadata": {},
   "source": [
    "## Create Lists"
   ]
  },
  {
   "cell_type": "code",
   "execution_count": 1,
   "metadata": {},
   "outputs": [
    {
     "name": "stdout",
     "output_type": "stream",
     "text": [
      "['Monday', 'Tuesday', 'Wednesday', 'Thursday', 'Friday', 'Saturday', 'Sunday']\n"
     ]
    }
   ],
   "source": [
    "# [ ] create and populate list called days_of_week then print it\n",
    "\n",
    "days_of_week = [\"Monday\", \"Tuesday\", \"Wednesday\", \"Thursday\", \"Friday\", \"Saturday\", \"Sunday\"]\n",
    "print(days_of_week)\n"
   ]
  },
  {
   "cell_type": "code",
   "execution_count": 2,
   "metadata": {},
   "outputs": [
    {
     "name": "stdout",
     "output_type": "stream",
     "text": [
      "['Monday', 'Wednesday', 'Friday', 'Sunday']\n"
     ]
    }
   ],
   "source": [
    "# [ ] after days_of_week is run above, print the days in the list at odd indexes 1,3,5\n",
    "\n",
    "print(days_of_week[0:7:2])\n"
   ]
  },
  {
   "cell_type": "markdown",
   "metadata": {},
   "source": [
    "## Phone letters\n",
    "![phone keys: number and letters](images/phone_letters.png)\n",
    "Create a list, **`phone_letters`**, where the index 0 - 9 contains the letters for keys 0 - 9.  \n",
    "\n",
    "- 0 = ' ' (a space)\n",
    "- 1 = '' (empty)\n",
    "- 2 = 'ABC'\n",
    "- 3 = 'DEF'\n",
    "- etc...\n"
   ]
  },
  {
   "cell_type": "code",
   "execution_count": 3,
   "metadata": {},
   "outputs": [
    {
     "name": "stdout",
     "output_type": "stream",
     "text": [
      "[' ', '', 'ABC', 'DEF', 'GHIJKL', 'MNO', 'PQR', 'STU', 'VWX']\n"
     ]
    }
   ],
   "source": [
    "# [ ] create and populate list called phone_letters then print it\n",
    "\n",
    "phone_letters = [\" \", \"\", \"ABC\", \"DEF\", \"GHI\" \"JKL\", \"MNO\", \"PQR\", \"STU\", \"VWX\"]\n",
    "print(phone_letters)\n"
   ]
  },
  {
   "cell_type": "markdown",
   "metadata": {
    "collapsed": true
   },
   "source": [
    "## Access Lists\n",
    "### for the 2 cells below\n",
    "- Use days_of_week list created above\n",
    "- Run the cell above to make the list available"
   ]
  },
  {
   "cell_type": "code",
   "execution_count": 4,
   "metadata": {},
   "outputs": [
    {
     "name": "stdout",
     "output_type": "stream",
     "text": [
      "Tuesday\n"
     ]
    }
   ],
   "source": [
    "# [ ] create a variable: day, assign day to \"Tuesday\" using days_of_week[]\n",
    "# [ ] print day variable\n",
    "\n",
    "days_of_week = [\"Monday\", \"Tuesday\", \"Wednesday\", \"Thursday\", \"Friday\", \"Saturday\", \"Sunday\"]\n",
    "day = \"\"\n",
    "for letters in days_of_week:\n",
    "    if letters == \"Tuesday\":\n",
    "        day += letters\n",
    "    else:\n",
    "        pass\n",
    "print(day)\n"
   ]
  },
  {
   "cell_type": "code",
   "execution_count": 5,
   "metadata": {},
   "outputs": [
    {
     "name": "stdout",
     "output_type": "stream",
     "text": [
      "Saturday\n"
     ]
    }
   ],
   "source": [
    "# PART 2\n",
    "# [ ] assign day to days_of_week index = 5\n",
    "# [ ] print day\n",
    "\n",
    "days_of_week = [\"Monday\", \"Tuesday\", \"Wednesday\", \"Thursday\", \"Friday\", \"Saturday\", \"Sunday\"]\n",
    "day = \"\"\n",
    "for letters in days_of_week:\n",
    "    if letters == \"Saturday\":\n",
    "        day += letters\n",
    "    else:\n",
    "        pass\n",
    "print(day)\n"
   ]
  },
  {
   "cell_type": "markdown",
   "metadata": {},
   "source": [
    "## Append and Insert items into a list\n",
    "\n",
    "### Endsday, Midsday, Resterday\n",
    "#### for the exercises below\n",
    "- Use days_of_week list created above\n",
    "- Run the cell defining days_of_week above to make the list available"
   ]
  },
  {
   "cell_type": "code",
   "execution_count": 7,
   "metadata": {},
   "outputs": [
    {
     "name": "stdout",
     "output_type": "stream",
     "text": [
      "['Monday', 'Tuesday', 'Wednesday', 'Thursday', 'Friday', 'Saturday', 'Sunday', 'Freeday']\n"
     ]
    }
   ],
   "source": [
    "# [ ] Make up a new day! - append an 8th day of the week to days_of_week \n",
    "# [ ] print days_of_week\n",
    "\n",
    "days_of_week = [\"Monday\", \"Tuesday\", \"Wednesday\", \"Thursday\", \"Friday\", \"Saturday\", \"Sunday\"]\n",
    "days_of_week.append(\"Freeday\")\n",
    "print(days_of_week)\n"
   ]
  },
  {
   "cell_type": "markdown",
   "metadata": {},
   "source": [
    "### Question  \n",
    "- What happens if you keep running the cell above?  \n",
    "- How can you return to the initial state with the regular 7 days in days_of_week? "
   ]
  },
  {
   "cell_type": "code",
   "execution_count": 9,
   "metadata": {},
   "outputs": [
    {
     "name": "stdout",
     "output_type": "stream",
     "text": [
      "['Monday', 'Tuesday', 'Wednesday', 'Wednesthursday', 'Thursday', 'Friday', 'Saturday', 'Sunday']\n"
     ]
    }
   ],
   "source": [
    "# [ ] Make up another new day - insert a new day into the middle of days_of_week between Wed - Thurs\n",
    "# [ ] print days_of_week\n",
    "\n",
    "days_of_week = [\"Monday\", \"Tuesday\", \"Wednesday\", \"Thursday\", \"Friday\", \"Saturday\", \"Sunday\"]\n",
    "days_of_week.insert(3, \"Wednesthursday\")\n",
    "print(days_of_week)\n"
   ]
  },
  {
   "cell_type": "code",
   "execution_count": 10,
   "metadata": {},
   "outputs": [
    {
     "name": "stdout",
     "output_type": "stream",
     "text": [
      "['Monday', 'Tuesday', 'Wednesday', 'Thursday', 'Friday', 'Funday', 'Saturday', 'Sunday']\n"
     ]
    }
   ],
   "source": [
    "# [ ]  Extend the weekend - insert a day between Fri & Sat in the days_of_week list\n",
    "# [ ] print days_of_week\n",
    "\n",
    "days_of_week = [\"Monday\", \"Tuesday\", \"Wednesday\", \"Thursday\", \"Friday\", \"Saturday\", \"Sunday\"]\n",
    "days_of_week.insert(5, \"Funday\")\n",
    "print(days_of_week)\n"
   ]
  },
  {
   "cell_type": "markdown",
   "metadata": {},
   "source": [
    "## Delete from a list\n",
    "### `del` & `.pop()` some bad ideas\n",
    "#### exercises below assume days_of_week appended/inserted 3 extra days in previous exercises"
   ]
  },
  {
   "cell_type": "code",
   "execution_count": 11,
   "metadata": {},
   "outputs": [
    {
     "name": "stdout",
     "output_type": "stream",
     "text": [
      "Rainday\n"
     ]
    }
   ],
   "source": [
    "# [ ] print days_of_week \n",
    "# [ ] modified week is too long - pop() the last index of days_of_week & print .pop() value\n",
    "# [ ] print days_of_week\n",
    "\n",
    "days_of_week = [\"Monday\", \"Tuesday\", \"Wednesday\", \"Forsday\", \"Thursday\", \"Friday\", \"Funday\", \"Saturday\", \"Sunday\", \"Rainday\"]\n",
    "print(days_of_week.pop())\n"
   ]
  },
  {
   "cell_type": "code",
   "execution_count": 12,
   "metadata": {},
   "outputs": [
    {
     "name": "stdout",
     "output_type": "stream",
     "text": [
      "['Monday', 'Tuesday', 'Wednesday', 'Thursday', 'Friday', 'Saturday', 'Sunday']\n"
     ]
    }
   ],
   "source": [
    "# [ ] print days_of_week \n",
    "# [ ] delete (del) the new day added to the middle of the week \n",
    "# [ ] print days_of_week\n",
    "\n",
    "days_of_week = [\"Monday\", \"Tuesday\", \"Wednesday\", \"Forsday\",\"Thursday\", \"Friday\", \"Saturday\", \"Sunday\"]\n",
    "del days_of_week[3]\n",
    "print(days_of_week)\n"
   ]
  },
  {
   "cell_type": "code",
   "execution_count": 13,
   "metadata": {},
   "outputs": [
    {
     "name": "stdout",
     "output_type": "stream",
     "text": [
      "Wednesday\n"
     ]
    }
   ],
   "source": [
    "# [ ] print days_of_week \n",
    "# [ ] programmers choice - pop() any day in days_of week & print .pop() value\n",
    "# [ ] print days_of_week\n",
    "\n",
    "days_of_week = [\"Monday\", \"Tuesday\", \"Wednesday\", \"Thursday\", \"Friday\", \"Saturday\", \"Sunday\"]\n",
    "print(days_of_week.pop(2))\n"
   ]
  },
  {
   "cell_type": "markdown",
   "metadata": {},
   "source": [
    "## Program:  Letter to Number Function\n",
    "### for the exercise below\n",
    "- Use phone_letters list created above\n",
    "- Run the cell above to make the list available \n",
    "\n",
    "#### recall unit 1 using **`in`** to search for a string in a string\n",
    "```python\n",
    "if \"e\" in \"open\":\n",
    "    print(\"e found\")\n",
    "else:\n",
    "   print(\"e not found\")\n",
    "```\n",
    "\n",
    "![phone keys: number and letters](images/phone_letters.png)\n",
    "\n",
    "### create funtion let_to_num()\n",
    "- let_to_num() takes input of a single letter, space or empty string stored in an argument variable: letter\n",
    "  - use `while key < 10:` to try numbers 0 - 9 as index for `phone_letters` (\"key\" = phone dial pad key)\n",
    "  - check if `letter` variable is in the index of `phone_letters[key]` \n",
    "```python\n",
    "key = 0\n",
    "while key < 10:\n",
    "    if # Create Code: determine if letter is **`in`** any of the phone_letters[key] where key is the index 0 -9:\n",
    "        return key\n",
    "    else:\n",
    "        key = key + 1\n",
    "return \"Not Found\"\n",
    "```\n",
    "- return the number or \"Not Found\"\n",
    "- **call** let_to_num() to test the function so it prints the argument and return value with:\n",
    "  - space\n",
    "  - lowercase letter\n",
    "  - different letter, uppercase\n",
    "  - a number\n",
    "  \n",
    "**Bonus**: create a special case to check if empty string (`\"\"`) was submitted   \n",
    "the problem is that an empty string will be found in all strings as  \n",
    "```python\n",
    "if \"\" in \"ABC\": \n",
    "```  \n",
    "is True, and is true for any phone_letters, but should `return 1`"
   ]
  },
  {
   "cell_type": "code",
   "execution_count": 17,
   "metadata": {},
   "outputs": [
    {
     "name": "stdout",
     "output_type": "stream",
     "text": [
      "GHI\n"
     ]
    }
   ],
   "source": [
    "# [ ] create let_to_num()\n",
    "\n",
    "let_to_num = [\" \", \"\", \"ABC\", \"DEF\", \"GHI\", \"JKL\", \"MNO\", \"PQR\", \"STU\", \"VWX\"]\n",
    "\n",
    "\n",
    "print(let_to_num[4])\n"
   ]
  },
  {
   "cell_type": "markdown",
   "metadata": {},
   "source": [
    "## Challenge: reverse a string \n",
    "### using \n",
    "- while\n",
    "- .pop()\n",
    "- insert()  \n",
    "\n",
    "**`pop()`** the **first item** in the list and "
   ]
  },
  {
   "cell_type": "code",
   "execution_count": 18,
   "metadata": {},
   "outputs": [
    {
     "name": "stdout",
     "output_type": "stream",
     "text": [
      "List: ['Red', 'Orange', 'Yellow', 'Green', 'Blue', 'Indigo', 'Violet']\n",
      "Reversed string: Violet, Indigo, Blue, Green, Yellow, Orange, Red\n"
     ]
    }
   ],
   "source": [
    "# [ ] Challenge: write the code for \"reverse a string\"\n",
    "\n",
    "string = [\"Red\", \"Orange\", \"Yellow\", \"Green\", \"Blue\", \"Indigo\", \"Violet\"]\n",
    "rev_str = []\n",
    "print(\"List:\", string)\n",
    "\n",
    "while string:\n",
    "  rev = string.pop(0)\n",
    "  rev_str.insert(0,rev)\n",
    "\n",
    "print(\"Reversed string:\", \", \".join(rev_str))\n"
   ]
  },
  {
   "cell_type": "markdown",
   "metadata": {},
   "source": [
    "[Terms of use](http://go.microsoft.com/fwlink/?LinkID=206977) &nbsp; [Privacy & cookies](https://go.microsoft.com/fwlink/?LinkId=521839) &nbsp; © 2017 Microsoft"
   ]
  }
 ],
 "metadata": {
  "anaconda-cloud": {},
  "kernelspec": {
   "display_name": "Python 3.10.6 64-bit",
   "language": "python",
   "name": "python3"
  },
  "language_info": {
   "codemirror_mode": {
    "name": "ipython",
    "version": 3
   },
   "file_extension": ".py",
   "mimetype": "text/x-python",
   "name": "python",
   "nbconvert_exporter": "python",
   "pygments_lexer": "ipython3",
   "version": "3.10.6"
  },
  "vscode": {
   "interpreter": {
    "hash": "215770cb51d250d45b51098c31b643fe015e8873cd529a92f0a276ac79e03ded"
   }
  }
 },
 "nbformat": 4,
 "nbformat_minor": 1
}
